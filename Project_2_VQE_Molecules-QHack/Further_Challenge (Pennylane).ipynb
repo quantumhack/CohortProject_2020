{
 "cells": [
  {
   "cell_type": "code",
   "execution_count": 70,
   "metadata": {},
   "outputs": [],
   "source": [
    "import numpy as np\n",
    "import pennylane as qml\n",
    "from utility import *\n",
    "from openfermion.utils import get_ground_state\n",
    "from openfermion.transforms import get_sparse_operator"
   ]
  },
  {
   "cell_type": "code",
   "execution_count": 79,
   "metadata": {
    "scrolled": true
   },
   "outputs": [
    {
     "name": "stdout",
     "output_type": "stream",
     "text": [
      "Energía: -56.17941494505153\n",
      "Energía: -69.87420089837074\n",
      "Energía: -73.49404037123733\n",
      "Energía: -74.59981945451598\n",
      "Energía: -74.92106859796003\n",
      "Energía: -74.96991384201736\n",
      "Energía: -74.91794722337472\n",
      "Energía: -74.83257401085204\n",
      "Energía: -74.74122535970575\n",
      "Energía: -74.80936494348765\n",
      "Energía: -74.7764267213408\n",
      "Energía: -74.75679596748176\n",
      "Energía: -74.7466444088962\n",
      "Energía: -74.74160063963055\n",
      "Energía: -74.6404588083122\n"
     ]
    }
   ],
   "source": [
    "bond_lengths = np.linspace(0.2,2.5,15)\n",
    "gro = np.zeros(15)\n",
    "for i in range(15):\n",
    "    geometry = get_molecular_data('h2o_pennylane', bond_lengths[i], xyz_format=False)[2:]\n",
    "    name = 'water'\n",
    "    charge = 0\n",
    "    multiplicity = 1\n",
    "    basis_set = 'sto-3g'\n",
    "    hf_data = qml.qchem.meanfield_data(name, geometry, charge, multiplicity, basis_set, qc_package='pyscf')\n",
    "    d_occ_indices, active_indices = qml.qchem.active_space(name, hf_data, n_active_electrons=4, n_active_orbitals=4)\n",
    "    no_d_occ, all_active = qml.qchem.active_space(name, hf_data)\n",
    "    qubit_hamiltonian = qml.qchem.decompose_hamiltonian(\n",
    "        name,\n",
    "        hf_data,\n",
    "        mapping='jordan_wigner',\n",
    "        docc_mo_indices=d_occ_indices,\n",
    "        active_mo_indices=active_indices\n",
    "    )\n",
    "\n",
    "    qubit_transf = 'jw'\n",
    "    tap = taper_hamiltonian(qubit_hamiltonian, n_spin_orbitals=14, n_electrons=10, qubit_transf=qubit_transf)\n",
    "    sparse = get_sparse_operator(tap)\n",
    "    gro[i] = get_ground_state(sparse)[0]\n",
    "    print(\"Energía:\", gro[i])"
   ]
  },
  {
   "cell_type": "code",
   "execution_count": 87,
   "metadata": {},
   "outputs": [
    {
     "name": "stderr",
     "output_type": "stream",
     "text": [
      "WARNING:matplotlib.legend:No handles with labels found to put in legend.\n"
     ]
    },
    {
     "data": {
      "text/plain": [
       "<matplotlib.legend.Legend at 0x7ffe59e26f60>"
      ]
     },
     "execution_count": 87,
     "metadata": {},
     "output_type": "execute_result"
    },
    {
     "data": {
      "image/png": "[encoded data removed]",
      "text/plain": [
       "<Figure size 432x288 with 1 Axes>"
      ]
     },
     "metadata": {
      "needs_background": "light"
     },
     "output_type": "display_data"
    }
   ],
   "source": [
    "import matplotlib.pyplot as plt\n",
    "\n",
    "plt.xlabel('R, Angstrom')\n",
    "plt.ylabel('E, Hartree')\n",
    "plt.plot(bond_lengths, gro)\n",
    "plt.legend()\n"
   ]
  },
  {
   "cell_type": "code",
   "execution_count": null,
   "metadata": {},
   "outputs": [],
   "source": []
  }
 ],
 "metadata": {
  "kernelspec": {
   "display_name": "quantumhack",
   "language": "python",
   "name": "quantumhack"
  },
  "language_info": {
   "codemirror_mode": {
    "name": "ipython",
    "version": 3
   },
   "file_extension": ".py",
   "mimetype": "text/x-python",
   "name": "python",
   "nbconvert_exporter": "python",
   "pygments_lexer": "ipython3",
   "version": "3.7.1"
  }
 },
 "nbformat": 4,
 "nbformat_minor": 1
}
