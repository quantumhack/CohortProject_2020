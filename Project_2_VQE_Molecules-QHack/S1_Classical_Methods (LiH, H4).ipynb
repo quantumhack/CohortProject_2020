{
 "cells": [
  {
   "cell_type": "markdown",
   "metadata": {},
   "source": [
    "# Benchmarking for electronic PESs in minimal basis (STO-3G)\n",
    "\n",
    "We will apply HF, CCSD, and FCI to obtaining the PESs for a few molecular dissociation processes in minimal (STO-3G) basis. "
   ]
  },
  {
   "cell_type": "code",
   "execution_count": 1,
   "metadata": {},
   "outputs": [],
   "source": [
    "import numpy as np\n",
    "import matplotlib.pyplot as plt\n",
    "from utility import get_molecular_data, obtain_PES\n",
    "\n",
    "basis = 'sto-3g'"
   ]
  },
  {
   "cell_type": "markdown",
   "metadata": {},
   "source": [
    "## LiH"
   ]
  },
  {
   "cell_type": "code",
   "execution_count": 2,
   "metadata": {},
   "outputs": [],
   "source": [
    "bond_lengths = np.linspace(1,3,15)"
   ]
  },
  {
   "cell_type": "code",
   "execution_count": 3,
   "metadata": {},
   "outputs": [
    {
     "name": "stdout",
     "output_type": "stream",
     "text": [
      "E = -7.784460280267016 Eh\n",
      "E = -7.838532793015942 Eh\n",
      "E = -7.867260599272532 Eh\n",
      "E = -7.8800499257249035 Eh\n",
      "E = -7.882668561853681 Eh\n",
      "E = -7.878838919757147 Eh\n",
      "E = -7.871066731850017 Eh\n",
      "E = -7.861087772411142 Eh\n",
      "E = -7.850131693648891 Eh\n",
      "E = -7.839087535062377 Eh\n",
      "E = -7.828604512640165 Eh\n",
      "E = -7.8191419915131855 Eh\n",
      "E = -7.81098239090747 Eh\n",
      "E = -7.8042325182119985 Eh\n",
      "E = -7.798843159455239 Eh\n"
     ]
    }
   ],
   "source": [
    "#Run FCI\n",
    "FCI_PES = obtain_PES('lih', bond_lengths, basis, method='fci')"
   ]
  },
  {
   "cell_type": "code",
   "execution_count": 4,
   "metadata": {},
   "outputs": [
    {
     "name": "stdout",
     "output_type": "stream",
     "text": [
      "E = -7.767438446509383 Eh\n",
      "E = -7.821849505669428 Eh\n",
      "E = -7.850229846806818 Eh\n",
      "E = -7.861943682878417 Eh\n",
      "E = -7.862747590802051 Eh\n",
      "E = -7.856344995556068 Eh\n",
      "E = -7.845203171005111 Eh\n",
      "E = -7.830998803612782 Eh\n",
      "E = -7.814885201329364 Eh\n",
      "E = -7.797666849047898 Eh\n",
      "E = -7.779919081959606 Eh\n",
      "E = -7.762070331572241 Eh\n",
      "E = -7.744455337326585 Eh\n",
      "E = -7.7273449797792555 Eh\n",
      "E = -7.710958961728265 Eh\n"
     ]
    }
   ],
   "source": [
    "#Run HF\n",
    "HF_PES = obtain_PES('lih', bond_lengths, basis,  method='hf')"
   ]
  },
  {
   "cell_type": "code",
   "execution_count": 5,
   "metadata": {},
   "outputs": [
    {
     "name": "stdout",
     "output_type": "stream",
     "text": [
      "E = -7.784453781342631 Eh\n",
      "E = -7.838525747136908 Eh\n",
      "E = -7.867252454615895 Eh\n",
      "E = -7.880040093072626 Eh\n",
      "E = -7.882656692757964 Eh\n",
      "E = -7.878825017601876 Eh\n",
      "E = -7.87105073578651 Eh\n",
      "E = -7.861069226073766 Eh\n",
      "E = -7.850109670097416 Eh\n",
      "E = -7.839060594463019 Eh\n",
      "E = -7.828570729160714 Eh\n",
      "E = -7.819099150457594 Eh\n",
      "E = -7.810928442828664 Eh\n",
      "E = -7.8041661393903095 Eh\n",
      "E = -7.798764080782396 Eh\n"
     ]
    }
   ],
   "source": [
    "#Run CCSD\n",
    "CCSD_PES = obtain_PES('lih', bond_lengths, basis,  method='ccsd')"
   ]
  },
  {
   "cell_type": "code",
   "execution_count": 6,
   "metadata": {
    "scrolled": true
   },
   "outputs": [
    {
     "data": {
      "text/plain": [
       "<matplotlib.legend.Legend at 0x7f3f6a05a898>"
      ]
     },
     "execution_count": 6,
     "metadata": {},
     "output_type": "execute_result"
    },
    {
     "data": {
      "image/png": "[encoded data removed]",
      "text/plain": [
       "<Figure size 432x288 with 1 Axes>"
      ]
     },
     "metadata": {
      "needs_background": "light"
     },
     "output_type": "display_data"
    }
   ],
   "source": [
    "#Plot LiH PESs\n",
    "\n",
    "plt.title('LiH dissociation, STO-3G')\n",
    "plt.xlabel('R, Angstrom')\n",
    "plt.ylabel('E, Hartree')\n",
    "\n",
    "plt.plot(bond_lengths, FCI_PES, label='FCI')\n",
    "plt.scatter(bond_lengths, HF_PES, label='HF', color='orange')\n",
    "plt.scatter(bond_lengths, CCSD_PES, label='CCSD', color='purple')\n",
    "plt.legend()"
   ]
  },
  {
   "cell_type": "markdown",
   "metadata": {},
   "source": [
    "# H$_4$"
   ]
  },
  {
   "cell_type": "code",
   "execution_count": 2,
   "metadata": {},
   "outputs": [],
   "source": [
    "bond_angles = np.linspace(85,95,20)"
   ]
  },
  {
   "cell_type": "code",
   "execution_count": 3,
   "metadata": {},
   "outputs": [
    {
     "name": "stdout",
     "output_type": "stream",
     "text": [
      "E = -1.8758401594285181 Eh\n",
      "E = -1.875527673020292 Eh\n",
      "E = -1.8752448079497444 Eh\n",
      "E = -1.8749927820532355 Eh\n",
      "E = -1.8747729514125466 Eh\n",
      "E = -1.8745867523885724 Eh\n",
      "E = -1.8744356220449752 Eh\n",
      "E = -1.8743209002793044 Eh\n",
      "E = -1.8742437222583521 Eh\n",
      "E = -1.8742049150122126 Eh\n",
      "E = -1.874204915012208 Eh\n",
      "E = -1.8742437222583477 Eh\n",
      "E = -1.8743209002793 Eh\n",
      "E = -1.8744356220449725 Eh\n",
      "E = -1.8745867523885733 Eh\n",
      "E = -1.8747729514125457 Eh\n",
      "E = -1.8749927820532357 Eh\n",
      "E = -1.875244807949748 Eh\n",
      "E = -1.8755276730202948 Eh\n",
      "E = -1.8758401594285186 Eh\n"
     ]
    }
   ],
   "source": [
    "#Run FCI\n",
    "FCI_PES = obtain_PES('h4', bond_angles, basis, method='fci')"
   ]
  },
  {
   "cell_type": "code",
   "execution_count": 4,
   "metadata": {},
   "outputs": [
    {
     "name": "stdout",
     "output_type": "stream",
     "text": [
      "E = -1.4424976255557962 Eh\n",
      "E = -1.4389709619787632 Eh\n",
      "E = -1.435494359860357 Eh\n",
      "E = -1.4320666857491826 Eh\n",
      "E = -1.428686804289971 Eh\n",
      "E = -1.4253535781761018 Eh\n",
      "E = -1.422065867688706 Eh\n",
      "E = -1.4188225304132154 Eh\n",
      "E = -1.4156224209104353 Eh\n",
      "E = -1.412464390163068 Eh\n",
      "E = -1.4124643901630674 Eh\n",
      "E = -1.4156224209104398 Eh\n",
      "E = -1.4188225304132156 Eh\n",
      "E = -1.4220658676887103 Eh\n",
      "E = -1.4253535781761002 Eh\n",
      "E = -1.4286868042899785 Eh\n",
      "E = -1.4320666857491875 Eh\n",
      "E = -1.4354943598603653 Eh\n",
      "E = -1.4389709619787656 Eh\n",
      "E = -1.442497625555799 Eh\n"
     ]
    }
   ],
   "source": [
    "#Run HF\n",
    "HF_PES = obtain_PES('h4', bond_angles, basis,  method='hf')"
   ]
  },
  {
   "cell_type": "code",
   "execution_count": 5,
   "metadata": {},
   "outputs": [
    {
     "name": "stdout",
     "output_type": "stream",
     "text": [
      "E = -1.882912035287131 Eh\n",
      "E = -1.88323908240218 Eh\n",
      "E = -1.8836065934053194 Eh\n",
      "E = -1.8840120141759393 Eh\n",
      "E = -1.8844530683994578 Eh\n",
      "E = -1.8849278107770187 Eh\n",
      "E = -1.885434559966124 Eh\n",
      "E = -1.885971962044649 Eh\n",
      "E = -1.8865389353640099 Eh\n",
      "E = -1.887134530803432 Eh\n",
      "E = -1.8871345308034315 Eh\n",
      "E = -1.8865389353640225 Eh\n",
      "E = -1.8859719620446451 Eh\n",
      "E = -1.8854345599661215 Eh\n",
      "E = -1.884927810777027 Eh\n",
      "E = -1.8844530683994614 Eh\n",
      "E = -1.8840120141759287 Eh\n",
      "E = -1.8836065934053532 Eh\n",
      "E = -1.8832390824021927 Eh\n",
      "E = -1.8829120352871311 Eh\n"
     ]
    }
   ],
   "source": [
    "#Run CCSD\n",
    "CCSD_PES = obtain_PES('h4', bond_angles, basis,  method='ccsd')"
   ]
  },
  {
   "cell_type": "code",
   "execution_count": 11,
   "metadata": {},
   "outputs": [
    {
     "data": {
      "text/plain": [
       "<matplotlib.legend.Legend at 0x7f0da748d5c0>"
      ]
     },
     "execution_count": 11,
     "metadata": {},
     "output_type": "execute_result"
    },
    {
     "data": {
      "image/png": "[encoded data removed]",
      "text/plain": [
       "<Figure size 432x288 with 1 Axes>"
      ]
     },
     "metadata": {
      "needs_background": "light"
     },
     "output_type": "display_data"
    }
   ],
   "source": [
    "#Plot H4 PESs\n",
    "\n",
    "plt.title('H4, STO-3G')\n",
    "plt.xlabel('alfa, degree')\n",
    "plt.ylabel('E, Hartree')\n",
    "\n",
    "plt.plot(bond_angles, FCI_PES, label='FCI')\n",
    "plt.scatter(bond_angles, HF_PES, label='HF', color='orange')\n",
    "plt.scatter(bond_angles, CCSD_PES, label='CCSD', color='purple')\n",
    "plt.legend()"
   ]
  },
  {
   "cell_type": "code",
   "execution_count": null,
   "metadata": {},
   "outputs": [],
   "source": []
  }
 ],
 "metadata": {
  "kernelspec": {
   "display_name": "tequila",
   "language": "python",
   "name": "tequila"
  },
  "language_info": {
   "codemirror_mode": {
    "name": "ipython",
    "version": 3
   },
   "file_extension": ".py",
   "mimetype": "text/x-python",
   "name": "python",
   "nbconvert_exporter": "python",
   "pygments_lexer": "ipython3",
   "version": "3.7.1"
  }
 },
 "nbformat": 4,
 "nbformat_minor": 4
}
