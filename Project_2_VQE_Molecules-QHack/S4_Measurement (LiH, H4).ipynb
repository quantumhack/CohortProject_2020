{
 "cells": [
  {
   "cell_type": "markdown",
   "metadata": {},
   "source": [
    "# Measurement Grouping (LiH, H$_4$)"
   ]
  },
  {
   "cell_type": "code",
   "execution_count": 1,
   "metadata": {},
   "outputs": [],
   "source": [
    "from utility import * "
   ]
  },
  {
   "cell_type": "markdown",
   "metadata": {},
   "source": [
    "# LiH"
   ]
  },
  {
   "cell_type": "code",
   "execution_count": 2,
   "metadata": {
    "tags": []
   },
   "outputs": [
    {
     "name": "stdout",
     "output_type": "stream",
     "text": [
      "Fragments 1: \n",
      "-0.0032403902911914 [X0 Z1 Z2 Y3 Y4 Z5 Z6 Z7 Z8 Z9 Z10 X11] +\n",
      "0.06558452315458412 [Z6 Z8] +\n",
      "0.06980180803300683 [Z6 Z9] +\n",
      "0.06980180803300683 [Z7 Z8] +\n",
      "0.06558452315458412 [Z7 Z9]\n",
      "\n",
      "Fragments 2:\n",
      "-0.0009084689845792923 [Y0 Z1 Z2 Z3 Z4 Z5 Y6 Y7 Z8 Z9 Z10 Y11] +\n",
      "0.09902225720340936 [Z1 Z8] +\n",
      "0.09654955103502408 [Z1 Z9] +\n",
      "0.06832924266505039 [Z2 Z8] +\n",
      "0.07512476934747575 [Z2 Z9] +\n",
      "0.07512476934747575 [Z3 Z8] +\n",
      "0.06832924266505039 [Z3 Z9] +\n",
      "0.06009702977667692 [Z4 Z8] +\n",
      "0.0706876235244352 [Z4 Z9] +\n",
      "0.0706876235244352 [Z5 Z8] +\n",
      "0.06009702977667692 [Z5 Z9] +\n",
      "-0.21675429323818474 [Z8] +\n",
      "0.0782363777898523 [Z8 Z9] +\n",
      "0.06428519917726604 [Z8 Z10] +\n",
      "-0.21675429323818474 [Z9] +\n",
      "0.06811818560946914 [Z9 Z10]\n",
      "\n",
      "Number of fragments: 154\n"
     ]
    }
   ],
   "source": [
    "lih = get_qubit_hamiltonian(mol='lih', geometry=1, basis='sto3g', qubit_transf='jw')\n",
    "\n",
    "qwc_list = get_qwc_group(lih)\n",
    "print('Fragments 1: \\n{}\\n'.format(qwc_list[4]))\n",
    "print('Fragments 2:\\n{}\\n'.format(qwc_list[1]))\n",
    "print('Number of fragments: {}'.format(len(qwc_list)))"
   ]
  },
  {
   "cell_type": "code",
   "execution_count": 3,
   "metadata": {
    "tags": []
   },
   "outputs": [
    {
     "name": "stdout",
     "output_type": "stream",
     "text": [
      "Number of mutually commuting fragments: 36\n",
      "The first commuting group\n",
      "-3.9344419567579134 [] +\n",
      "0.00792332115785044 [X0 Y1 Y2 X3] +\n",
      "-0.00015507836014996243 [X0 Z1 Z2 X3 Y4 Y5] +\n",
      "-0.0020778869026622255 [X0 Z1 Z2 X3 Y6 Y7] +\n",
      "-0.002077886902662226 [X0 Z1 Z2 X3 Y8 Y9] +\n",
      "-0.002102865907376244 [X0 Z1 Z2 X3 Y10 Y11] +\n",
      "0.00792332115785044 [Y0 X1 X2 Y3] +\n",
      "-0.00015507836014996243 [Y0 Z1 Z2 Y3 X4 X5] +\n",
      "-0.0020778869026622255 [Y0 Z1 Z2 Y3 X6 X7] +\n",
      "-0.002077886902662226 [Y0 Z1 Z2 Y3 X8 X9] +\n",
      "-0.002102865907376244 [Y0 Z1 Z2 Y3 X10 X11] +\n",
      "0.11709373561826492 [Z0 Z3] +\n",
      "-0.00015507836014996243 [X1 X2 X4 X5] +\n",
      "-0.0020778869026622255 [X1 X2 X6 X7] +\n",
      "-0.002077886902662226 [X1 X2 X8 X9] +\n",
      "-0.002102865907376244 [X1 X2 X10 X11] +\n",
      "-0.00015507836014996243 [Y1 Y2 Y4 Y5] +\n",
      "-0.0020778869026622255 [Y1 Y2 Y6 Y7] +\n",
      "-0.002077886902662226 [Y1 Y2 Y8 Y9] +\n",
      "-0.002102865907376244 [Y1 Y2 Y10 Y11] +\n",
      "0.11709373561826492 [Z1 Z2] +\n",
      "-0.010590593747758267 [X4 X5 Y6 Y7] +\n",
      "-0.010590593747758269 [X4 X5 Y8 Y9] +\n",
      "-0.0067330307808807855 [X4 X5 Y10 Y11] +\n",
      "-0.010590593747758267 [Y4 Y5 X6 X7] +\n",
      "-0.010590593747758269 [Y4 Y5 X8 X9] +\n",
      "-0.0067330307808807855 [Y4 Y5 X10 X11] +\n",
      "0.08475100244618898 [Z4 Z5] +\n",
      "-0.00421728487842271 [X6 X7 Y8 Y9] +\n",
      "-0.0038329864322031 [X6 X7 Y10 Y11] +\n",
      "-0.00421728487842271 [Y6 Y7 X8 X9] +\n",
      "-0.0038329864322031 [Y6 Y7 X10 X11] +\n",
      "0.07823637778985226 [Z6 Z7] +\n",
      "-0.0038329864322031023 [X8 X9 Y10 Y11] +\n",
      "-0.0038329864322031023 [Y8 Y9 X10 X11] +\n",
      "0.0782363777898523 [Z8 Z9] +\n",
      "0.10993969044870461 [Z10 Z11]\n"
     ]
    }
   ],
   "source": [
    "comm_groups = get_commuting_group(lih)\n",
    "print('Number of mutually commuting fragments: {}'.format(len(comm_groups)))\n",
    "print('The first commuting group')\n",
    "print(comm_groups[1])"
   ]
  },
  {
   "cell_type": "markdown",
   "metadata": {},
   "source": [
    "To see this fragment is indeed measurable, one can construct the corresponding unitary operator $\\hat U_n$."
   ]
  },
  {
   "cell_type": "code",
   "execution_count": 4,
   "metadata": {
    "tags": []
   },
   "outputs": [
    {
     "name": "stdout",
     "output_type": "stream",
     "text": [
      "This is unitary, U * U^+ = I \n",
      "(0.9999999999999999+0j) []\n"
     ]
    }
   ],
   "source": [
    "uqwc = get_qwc_unitary(comm_groups[1])\n",
    "print('This is unitary, U * U^+ = I ')\n",
    "print(uqwc * uqwc)"
   ]
  },
  {
   "cell_type": "markdown",
   "metadata": {},
   "source": [
    "Applying this unitary gives the qubit-wise commuting form of the first mutually commuting group"
   ]
  },
  {
   "cell_type": "code",
   "execution_count": 5,
   "metadata": {
    "tags": []
   },
   "outputs": [
    {
     "name": "stdout",
     "output_type": "stream",
     "text": [
      "-3.9344419567582896 [] +\n",
      "0.11709373561825794 [X0] +\n",
      "0.00015507836014995083 [X0 X1 X2 Z3 Z5] +\n",
      "0.0020778869026622415 [X0 X1 X2 Z3 Z7] +\n",
      "0.0020778869026622415 [X0 X1 X2 Z3 Z9] +\n",
      "0.0021028659073761167 [X0 X1 X2 Z3 Z11] +\n",
      "-0.007923321157850388 [X0 Z3] +\n",
      "0.11709373561825794 [X1 X2] +\n",
      "-0.007923321157850388 [X1 X2 Z3] +\n",
      "0.00015507836014995083 [X1 X2 Z3 X4 Z5] +\n",
      "0.0020778869026622415 [X1 X2 Z3 X6 Z7] +\n",
      "0.0020778869026622415 [X1 X2 Z3 X8 Z9] +\n",
      "0.0021028659073761167 [X1 X2 Z3 X10 Z11] +\n",
      "-0.00015507836014995083 [X1 X2 X4 Z5] +\n",
      "-0.0020778869026622415 [X1 X2 X6 Z7] +\n",
      "-0.0020778869026622415 [X1 X2 X8 Z9] +\n",
      "-0.0021028659073761167 [X1 X2 X10 Z11] +\n",
      "0.08475100244618386 [X4] +\n",
      "0.010590593747757776 [X4 Z5 Z7] +\n",
      "0.010590593747757776 [X4 Z5 Z9] +\n",
      "0.00673303078088137 [X4 Z5 Z11] +\n",
      "-0.00015507836014995083 [Z5] +\n",
      "0.010590593747757776 [Z5 X6 Z7] +\n",
      "0.010590593747757776 [Z5 X8 Z9] +\n",
      "0.00673303078088137 [Z5 X10 Z11] +\n",
      "0.0782363777898527 [X6] +\n",
      "0.004217284878422285 [X6 Z7 Z9] +\n",
      "0.003832986432202985 [X6 Z7 Z11] +\n",
      "-0.0020778869026622415 [Z7] +\n",
      "0.004217284878422285 [Z7 X8 Z9] +\n",
      "0.003832986432202985 [Z7 X10 Z11] +\n",
      "0.0782363777898527 [X8] +\n",
      "0.003832986432202985 [X8 Z9 Z11] +\n",
      "-0.0020778869026622415 [Z9] +\n",
      "0.003832986432202985 [Z9 X10 Z11] +\n",
      "0.109939690448699 [X10] +\n",
      "-0.0021028659073761167 [Z11]\n"
     ]
    }
   ],
   "source": [
    "qwc = remove_complex(uqwc * comm_groups[1] * uqwc)\n",
    "print(qwc)"
   ]
  },
  {
   "cell_type": "markdown",
   "metadata": {},
   "source": [
    "In addition, current quantum computer can measure only the z operators. Thus, QWC fragments with x or y operators require extra single-qubit unitaries that rotate them into z.  "
   ]
  },
  {
   "cell_type": "code",
   "execution_count": 6,
   "metadata": {
    "tags": []
   },
   "outputs": [
    {
     "name": "stdout",
     "output_type": "stream",
     "text": [
      "Checking whether U * U^+ is identity: 0.9999999999999998 []\n",
      "\n",
      "The all-z form of qwc fragment:\n",
      "-3.934441956758291 [] +\n",
      "0.11709373561825803 [Z0] +\n",
      "0.0001550783601499509 [Z0 Z1 Z2 Z3 Z5] +\n",
      "0.002077886902662245 [Z0 Z1 Z2 Z3 Z7] +\n",
      "0.002077886902662245 [Z0 Z1 Z2 Z3 Z9] +\n",
      "0.0021028659073761215 [Z0 Z1 Z2 Z3 Z11] +\n",
      "-0.007923321157850355 [Z0 Z3] +\n",
      "0.11709373561825803 [Z1 Z2] +\n",
      "-0.007923321157850355 [Z1 Z2 Z3] +\n",
      "0.0001550783601499509 [Z1 Z2 Z3 Z4 Z5] +\n",
      "0.002077886902662245 [Z1 Z2 Z3 Z6 Z7] +\n",
      "0.002077886902662245 [Z1 Z2 Z3 Z8 Z9] +\n",
      "0.0021028659073761215 [Z1 Z2 Z3 Z10 Z11] +\n",
      "-0.0001550783601499509 [Z1 Z2 Z4 Z5] +\n",
      "-0.002077886902662245 [Z1 Z2 Z6 Z7] +\n",
      "-0.002077886902662245 [Z1 Z2 Z8 Z9] +\n",
      "-0.0021028659073761215 [Z1 Z2 Z10 Z11] +\n",
      "0.08475100244618386 [Z4] +\n",
      "0.010590593747757743 [Z4 Z5 Z7] +\n",
      "0.010590593747757743 [Z4 Z5 Z9] +\n",
      "0.0067330307808813805 [Z4 Z5 Z11] +\n",
      "-0.0001550783601499509 [Z5] +\n",
      "0.010590593747757743 [Z5 Z6 Z7] +\n",
      "0.010590593747757743 [Z5 Z8 Z9] +\n",
      "0.0067330307808813805 [Z5 Z10 Z11] +\n",
      "0.07823637778985261 [Z6] +\n",
      "0.004217284878422274 [Z6 Z7 Z9] +\n",
      "0.0038329864322029787 [Z6 Z7 Z11] +\n",
      "-0.002077886902662245 [Z7] +\n",
      "0.004217284878422274 [Z7 Z8 Z9] +\n",
      "0.0038329864322029787 [Z7 Z10 Z11] +\n",
      "0.07823637778985261 [Z8] +\n",
      "0.0038329864322029787 [Z8 Z9 Z11] +\n",
      "-0.002077886902662245 [Z9] +\n",
      "0.0038329864322029787 [Z9 Z10 Z11] +\n",
      "0.1099396904486985 [Z10] +\n",
      "-0.0021028659073761215 [Z11]\n"
     ]
    }
   ],
   "source": [
    "uz = get_zform_unitary(qwc)\n",
    "print(\"Checking whether U * U^+ is identity: {}\".format(uz * uz))\n",
    "\n",
    "allz = remove_complex(uz * qwc * uz)\n",
    "print(\"\\nThe all-z form of qwc fragment:\\n{}\".format(allz))"
   ]
  },
  {
   "cell_type": "markdown",
   "metadata": {},
   "source": [
    "# H$_4$"
   ]
  },
  {
   "cell_type": "code",
   "execution_count": 2,
   "metadata": {},
   "outputs": [
    {
     "name": "stdout",
     "output_type": "stream",
     "text": [
      "Fragments 1: \n",
      "0.06859547722244744 [Z0] +\n",
      "0.044960185965264306 [Z0 Z2] +\n",
      "0.04715778452212613 [Z0 Z4] +\n",
      "0.053862039111794754 [Z0 Z6] +\n",
      "-0.009013566291485206 [X1 Z2 X3 X5 Z6 X7] +\n",
      "0.053620841281665804 [Z2 Z4] +\n",
      "0.03227001607698211 [Z4] +\n",
      "0.04452129017678165 [Z4 Z6]\n",
      "\n",
      "Fragments 2:\n",
      "0.03789904699587226 [X0 Z1 Z2 X3 Y4 Z5 Z6 Y7]\n",
      "\n",
      "Number of fragments: 37\n"
     ]
    }
   ],
   "source": [
    "h4 = get_qubit_hamiltonian(mol='h4', geometry=85, basis='sto3g', qubit_transf='jw')\n",
    "\n",
    "qwc_list = get_qwc_group(h4)\n",
    "print('Fragments 1: \\n{}\\n'.format(qwc_list[4]))\n",
    "print('Fragments 2:\\n{}\\n'.format(qwc_list[1]))\n",
    "print('Number of fragments: {}'.format(len(qwc_list)))"
   ]
  },
  {
   "cell_type": "code",
   "execution_count": 3,
   "metadata": {},
   "outputs": [
    {
     "name": "stdout",
     "output_type": "stream",
     "text": [
      "Number of mutually commuting fragments: 4\n",
      "The first commuting group\n",
      "-1.080506492015315 [] +\n",
      "-0.03694196378174588 [X0 X1 Y4 Y5] +\n",
      "-0.030968060718191304 [X0 X1 Y6 Y7] +\n",
      "-0.006750186530393035 [X0 Z1 Y2 Y4 Z5 X6] +\n",
      "0.03789904699587226 [X0 Z1 Z2 X3 Y4 Z5 Z6 Y7] +\n",
      "0.031148860465479218 [X0 Z1 Z2 X3 X5 X6] +\n",
      "-0.03694196378174588 [Y0 Y1 X4 X5] +\n",
      "-0.030968060718191304 [Y0 Y1 X6 X7] +\n",
      "-0.006750186530393035 [Y0 Z1 X2 X4 Z5 Y6] +\n",
      "0.03789904699587226 [Y0 Z1 Z2 Y3 X4 Z5 Z6 X7] +\n",
      "0.031148860465479218 [Y0 Z1 Z2 Y3 Y5 Y6] +\n",
      "0.031148860465479218 [X1 X2 X4 Z5 Z6 X7] +\n",
      "0.03789904699587226 [X1 X2 Y5 Y6] +\n",
      "-0.006750186530393035 [X1 Z2 Y3 Y5 Z6 X7] +\n",
      "0.031148860465479218 [Y1 Y2 Y4 Z5 Z6 Y7] +\n",
      "0.03789904699587226 [Y1 Y2 X5 X6] +\n",
      "-0.006750186530393035 [Y1 Z2 X3 X5 Z6 Y7] +\n",
      "-0.031330758832870786 [X2 X3 Y4 Y5] +\n",
      "-0.03900041909400719 [X2 X3 Y6 Y7] +\n",
      "-0.031330758832870786 [Y2 Y3 X4 X5] +\n",
      "-0.03900041909400719 [Y2 Y3 X6 X7]\n"
     ]
    }
   ],
   "source": [
    "comm_groups = get_commuting_group(h4)\n",
    "print('Number of mutually commuting fragments: {}'.format(len(comm_groups)))\n",
    "print('The first commuting group')\n",
    "print(comm_groups[1])"
   ]
  },
  {
   "cell_type": "code",
   "execution_count": 4,
   "metadata": {},
   "outputs": [
    {
     "name": "stdout",
     "output_type": "stream",
     "text": [
      "This is unitary, U * U^+ = I \n",
      "(0.9999999999999999+0j) []\n"
     ]
    }
   ],
   "source": [
    "uqwc = get_qwc_unitary(comm_groups[1])\n",
    "print('This is unitary, U * U^+ = I ')\n",
    "print(uqwc * uqwc)"
   ]
  },
  {
   "cell_type": "code",
   "execution_count": 5,
   "metadata": {},
   "outputs": [
    {
     "name": "stdout",
     "output_type": "stream",
     "text": [
      "-1.0805064920153111 [] +\n",
      "-0.031148860465479253 [X0 X1 X2 Z3 Z5 Z6] +\n",
      "-0.03789904699587214 [X0 X1 X2 Z3 Z7] +\n",
      "0.036941963781745815 [X0 X1 Z5] +\n",
      "0.006750186530393003 [X0 X1 Z6] +\n",
      "-0.030968060718191196 [X0 X1 Z6 Z7] +\n",
      "-0.03789904699587214 [X1 X2 Z3 X4 Z7] +\n",
      "-0.031148860465479253 [X1 X2 Z3 Z5 Z6] +\n",
      "-0.006750186530393003 [X1 X2 Z3 Z5 Z7] +\n",
      "0.006750186530393003 [X1 X2 X4 Z6] +\n",
      "0.031148860465479253 [X1 X2 X4 Z7] +\n",
      "0.03789904699587214 [X1 X2 Z5 Z6] +\n",
      "0.03133075883287083 [X2 Z3 Z5] +\n",
      "-0.006750186530393003 [X2 Z3 Z5 Z7] +\n",
      "-0.039000419094007185 [X2 Z3 Z6 Z7] +\n",
      "0.03133075883287083 [Z3 X4 Z5] +\n",
      "-0.039000419094007185 [Z3 Z6 Z7] +\n",
      "0.036941963781745815 [X4 Z5] +\n",
      "0.03789904699587214 [Z5 Z6] +\n",
      "-0.030968060718191196 [Z6 Z7] +\n",
      "0.031148860465479253 [Z7]\n"
     ]
    }
   ],
   "source": [
    "qwc = remove_complex(uqwc * comm_groups[1] * uqwc)\n",
    "print(qwc)"
   ]
  },
  {
   "cell_type": "code",
   "execution_count": 6,
   "metadata": {},
   "outputs": [
    {
     "name": "stdout",
     "output_type": "stream",
     "text": [
      "Checking whether U * U^+ is identity: 0.9999999999999996 []\n",
      "\n",
      "The all-z form of qwc fragment:\n",
      "-1.0805064920153102 [] +\n",
      "-0.031148860465479225 [Z0 Z1 Z2 Z3 Z5 Z6] +\n",
      "-0.037899046995872106 [Z0 Z1 Z2 Z3 Z7] +\n",
      "0.03694196378174579 [Z0 Z1 Z5] +\n",
      "0.006750186530392998 [Z0 Z1 Z6] +\n",
      "-0.030968060718191182 [Z0 Z1 Z6 Z7] +\n",
      "-0.037899046995872106 [Z1 Z2 Z3 Z4 Z7] +\n",
      "-0.031148860465479225 [Z1 Z2 Z3 Z5 Z6] +\n",
      "-0.006750186530392998 [Z1 Z2 Z3 Z5 Z7] +\n",
      "0.006750186530392998 [Z1 Z2 Z4 Z6] +\n",
      "0.031148860465479225 [Z1 Z2 Z4 Z7] +\n",
      "0.037899046995872106 [Z1 Z2 Z5 Z6] +\n",
      "0.03133075883287079 [Z2 Z3 Z5] +\n",
      "-0.006750186530392998 [Z2 Z3 Z5 Z7] +\n",
      "-0.03900041909400716 [Z2 Z3 Z6 Z7] +\n",
      "0.03133075883287079 [Z3 Z4 Z5] +\n",
      "-0.03900041909400716 [Z3 Z6 Z7] +\n",
      "0.03694196378174579 [Z4 Z5] +\n",
      "0.037899046995872106 [Z5 Z6] +\n",
      "-0.030968060718191182 [Z6 Z7] +\n",
      "0.031148860465479225 [Z7]\n"
     ]
    }
   ],
   "source": [
    "uz = get_zform_unitary(qwc)\n",
    "print(\"Checking whether U * U^+ is identity: {}\".format(uz * uz))\n",
    "\n",
    "allz = remove_complex(uz * qwc * uz)\n",
    "print(\"\\nThe all-z form of qwc fragment:\\n{}\".format(allz))"
   ]
  }
 ],
 "metadata": {
  "kernelspec": {
   "display_name": "tequila",
   "language": "python",
   "name": "tequila"
  },
  "language_info": {
   "codemirror_mode": {
    "name": "ipython",
    "version": 3
   },
   "file_extension": ".py",
   "mimetype": "text/x-python",
   "name": "python",
   "nbconvert_exporter": "python",
   "pygments_lexer": "ipython3",
   "version": "3.7.1"
  }
 },
 "nbformat": 4,
 "nbformat_minor": 4
}
