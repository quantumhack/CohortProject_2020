{
 "cells": [
  {
   "cell_type": "markdown",
   "metadata": {},
   "source": [
    "# Quantum Circuits\n",
    "Quantum computers can only use a specific set of gates (universal gate set). Given the entanglers and their amplitudes found in Step 3, one can find corresponding representation of these operators in terms of elementary gates using the following procedure."
   ]
  },
  {
   "cell_type": "code",
   "execution_count": 1,
   "metadata": {},
   "outputs": [],
   "source": [
    "import tequila as tq\n",
    "from utility import *"
   ]
  },
  {
   "cell_type": "markdown",
   "metadata": {},
   "source": [
    "First, we set up the Hamiltonian in Tequila's format and the unitary gates obtained in Step 3. "
   ]
  },
  {
   "cell_type": "code",
   "execution_count": 2,
   "metadata": {
    "tags": []
   },
   "outputs": [
    {
     "name": "stdout",
     "output_type": "stream",
     "text": [
      "circuit: \n",
      "Rx(target=(0,), parameter=beta_0)\n",
      "Rz(target=(0,), parameter=gamma_0)\n",
      "Rx(target=(1,), parameter=beta_1)\n",
      "Rz(target=(1,), parameter=gamma_1)\n",
      "Rx(target=(2,), parameter=beta_2)\n",
      "Rz(target=(2,), parameter=gamma_2)\n",
      "Rx(target=(3,), parameter=beta_3)\n",
      "Rz(target=(3,), parameter=gamma_3)\n",
      "Rx(target=(4,), parameter=beta_4)\n",
      "Rz(target=(4,), parameter=gamma_4)\n",
      "Rx(target=(5,), parameter=beta_5)\n",
      "Rz(target=(5,), parameter=gamma_5)\n",
      "Rx(target=(6,), parameter=beta_6)\n",
      "Rz(target=(6,), parameter=gamma_6)\n",
      "Rx(target=(7,), parameter=beta_7)\n",
      "Rz(target=(7,), parameter=gamma_7)\n",
      "Rx(target=(8,), parameter=beta_8)\n",
      "Rz(target=(8,), parameter=gamma_8)\n",
      "Rx(target=(9,), parameter=beta_9)\n",
      "Rz(target=(9,), parameter=gamma_9)\n",
      "Rx(target=(10,), parameter=beta_10)\n",
      "Rz(target=(10,), parameter=gamma_10)\n",
      "Rx(target=(11,), parameter=beta_11)\n",
      "Rz(target=(11,), parameter=gamma_11)\n",
      "Exp-Pauli(target=(2, 3, 10, 11), control=(), parameter=tau_0, paulistring=X(2)Y(3)X(10)X(11))\n",
      "\n"
     ]
    }
   ],
   "source": [
    "H = tq.QubitHamiltonian.from_openfermion(get_qubit_hamiltonian('lih', 2, 'sto-3g', qubit_transf='jw'))\n",
    "\n",
    "a = tq.Variable(\"tau_0\")\n",
    "U = construct_QMF_ansatz(12)\n",
    "U += tq.gates.ExpPauli(paulistring=tq.PauliString.from_string(\"X(2)Y(3)X(10)X(11)\"), angle=a)\n",
    "print(U)"
   ]
  },
  {
   "cell_type": "markdown",
   "metadata": {},
   "source": [
    "One can check the expectation value to see it is near the ground state energy."
   ]
  },
  {
   "cell_type": "code",
   "execution_count": 3,
   "metadata": {
    "tags": []
   },
   "outputs": [
    {
     "name": "stdout",
     "output_type": "stream",
     "text": [
      "-6.535552441177239\n"
     ]
    }
   ],
   "source": [
    "E = tq.ExpectationValue(H=H, U=U)\n",
    "vars = {'beta_0': 3.141592653589793, 'gamma_0': 0.0, 'beta_1': 3.141592653589793, 'gamma_1': 0.0, 'beta_2': 3.141592653589793, 'gamma_2': 0.0, 'beta_3': 3.141592653589793, 'gamma_3': 0.0, 'beta_4': 0.0, 'gamma_4': 0.0, 'beta_5': 0.0, 'gamma_5': 0.0, 'beta_6': 0.0, 'gamma_6': 0.0, 'beta_7': 0.0, 'gamma_7': 0.0, 'beta_8': 0.0, 'gamma_8': 0.0, 'beta_9': 0.0, 'gamma_9': 0.0, 'beta_10': 3.141592653589793, 'gamma_10': 0.0, 'beta_11': 3.141592653589793, 'gamma_11': 0.0, 'tau_0': 0.0}\n",
    "print(tq.simulate(E, variables=vars))"
   ]
  },
  {
   "cell_type": "markdown",
   "metadata": {},
   "source": [
    "One can run the same experiment on a real quantum computer through IBM Quantum Experience (ibmq). After activating your account here (https://quantum-computing.ibm.com/login), copy the API token and execute the commented block below. "
   ]
  },
  {
   "cell_type": "code",
   "execution_count": 4,
   "metadata": {},
   "outputs": [
    {
     "name": "stderr",
     "output_type": "stream",
     "text": [
      "configrc.store_credentials:WARNING:2020-07-18 15:02:17,005: Credentials already present. Set overwrite=True to overwrite.\n"
     ]
    }
   ],
   "source": [
    "from qiskit import IBMQ\n",
    "IBMQ.save_account('bc0221c2c435408a718744a0e3388325cd4241375e15beefb8909a759a28201db7c6a425e8d07e09e54105e373aceccb175fa8eb46700b4db88ac50dbdc6fa84')"
   ]
  },
  {
   "cell_type": "code",
   "execution_count": 5,
   "metadata": {
    "tags": []
   },
   "outputs": [
    {
     "data": {
      "text/plain": [
       "-6.550047668682258"
      ]
     },
     "execution_count": 5,
     "metadata": {},
     "output_type": "execute_result"
    }
   ],
   "source": [
    "# list of devices available can be found in ibmq account page\n",
    "tq.simulate(E, variables=vars, samples=100, backend=\"qiskit\")"
   ]
  },
  {
   "cell_type": "markdown",
   "metadata": {},
   "source": [
    "The following code block prints the circuit."
   ]
  },
  {
   "cell_type": "code",
   "execution_count": 6,
   "metadata": {
    "tags": []
   },
   "outputs": [
    {
     "name": "stdout",
     "output_type": "stream",
     "text": [
      "       ┌────────────────────┐  ┌─────────────────────┐                       »\n",
      " q_0: ─┤ RX(f((beta_0,))_0) ├──┤ RZ(f((gamma_0,))_1) ├───────────────────────»\n",
      "       ├────────────────────┤  ├─────────────────────┤                       »\n",
      " q_1: ─┤ RX(f((beta_1,))_2) ├──┤ RZ(f((gamma_1,))_3) ├───────────────────────»\n",
      "       ├────────────────────┤  ├─────────────────────┤    ┌───┐              »\n",
      " q_2: ─┤ RX(f((beta_2,))_4) ├──┤ RZ(f((gamma_2,))_5) ├────┤ H ├──────■───────»\n",
      "       ├────────────────────┤  ├─────────────────────┤ ┌──┴───┴───┐┌─┴─┐     »\n",
      " q_3: ─┤ RX(f((beta_3,))_6) ├──┤ RZ(f((gamma_3,))_7) ├─┤ RX(pi/2) ├┤ X ├──■──»\n",
      "       ├────────────────────┤  ├─────────────────────┤ └──────────┘└───┘  │  »\n",
      " q_4: ─┤ RX(f((beta_4,))_8) ├──┤ RZ(f((gamma_4,))_9) ├────────────────────┼──»\n",
      "      ┌┴────────────────────┤  ├─────────────────────┴┐                   │  »\n",
      " q_5: ┤ RX(f((beta_5,))_10) ├──┤ RZ(f((gamma_5,))_11) ├───────────────────┼──»\n",
      "      ├─────────────────────┤  ├──────────────────────┤                   │  »\n",
      " q_6: ┤ RX(f((beta_6,))_12) ├──┤ RZ(f((gamma_6,))_13) ├───────────────────┼──»\n",
      "      ├─────────────────────┤  ├──────────────────────┤                   │  »\n",
      " q_7: ┤ RX(f((beta_7,))_14) ├──┤ RZ(f((gamma_7,))_15) ├───────────────────┼──»\n",
      "      ├─────────────────────┤  ├──────────────────────┤                   │  »\n",
      " q_8: ┤ RX(f((beta_8,))_16) ├──┤ RZ(f((gamma_8,))_17) ├───────────────────┼──»\n",
      "      ├─────────────────────┤  ├──────────────────────┤                   │  »\n",
      " q_9: ┤ RX(f((beta_9,))_18) ├──┤ RZ(f((gamma_9,))_19) ├───────────────────┼──»\n",
      "      ├─────────────────────┴┐┌┴──────────────────────┤   ┌───┐         ┌─┴─┐»\n",
      "q_10: ┤ RX(f((beta_10,))_20) ├┤ RZ(f((gamma_10,))_21) ├───┤ H ├─────────┤ X ├»\n",
      "      ├──────────────────────┤├───────────────────────┤   ├───┤         └───┘»\n",
      "q_11: ┤ RX(f((beta_11,))_22) ├┤ RZ(f((gamma_11,))_23) ├───┤ H ├──────────────»\n",
      "      └──────────────────────┘└───────────────────────┘   └───┘              »\n",
      " c_0: ═══════════════════════════════════════════════════════════════════════»\n",
      "                                                                             »\n",
      " c_1: ═══════════════════════════════════════════════════════════════════════»\n",
      "                                                                             »\n",
      " c_2: ═══════════════════════════════════════════════════════════════════════»\n",
      "                                                                             »\n",
      " c_3: ═══════════════════════════════════════════════════════════════════════»\n",
      "                                                                             »\n",
      " c_4: ═══════════════════════════════════════════════════════════════════════»\n",
      "                                                                             »\n",
      " c_5: ═══════════════════════════════════════════════════════════════════════»\n",
      "                                                                             »\n",
      " c_6: ═══════════════════════════════════════════════════════════════════════»\n",
      "                                                                             »\n",
      " c_7: ═══════════════════════════════════════════════════════════════════════»\n",
      "                                                                             »\n",
      " c_8: ═══════════════════════════════════════════════════════════════════════»\n",
      "                                                                             »\n",
      " c_9: ═══════════════════════════════════════════════════════════════════════»\n",
      "                                                                             »\n",
      "c_10: ═══════════════════════════════════════════════════════════════════════»\n",
      "                                                                             »\n",
      "c_11: ═══════════════════════════════════════════════════════════════════════»\n",
      "                                                                             »\n",
      "«                                                             \n",
      "« q_0: ───────────────────────────────────────────────────────\n",
      "«                                                             \n",
      "« q_1: ───────────────────────────────────────────────────────\n",
      "«                                                    ┌───┐    \n",
      "« q_2: ───────────────────────────────────────■──────┤ H ├────\n",
      "«                                           ┌─┴─┐┌───┴───┴───┐\n",
      "« q_3: ──────────────────────────────────■──┤ X ├┤ RX(-pi/2) ├\n",
      "«                                        │  └───┘└───────────┘\n",
      "« q_4: ──────────────────────────────────┼────────────────────\n",
      "«                                        │                    \n",
      "« q_5: ──────────────────────────────────┼────────────────────\n",
      "«                                        │                    \n",
      "« q_6: ──────────────────────────────────┼────────────────────\n",
      "«                                        │                    \n",
      "« q_7: ──────────────────────────────────┼────────────────────\n",
      "«                                        │                    \n",
      "« q_8: ──────────────────────────────────┼────────────────────\n",
      "«                                        │                    \n",
      "« q_9: ──────────────────────────────────┼────────────────────\n",
      "«                                      ┌─┴─┐┌───┐             \n",
      "«q_10: ──■──────────────────────────■──┤ X ├┤ H ├─────────────\n",
      "«      ┌─┴─┐┌────────────────────┐┌─┴─┐├───┤└───┘             \n",
      "«q_11: ┤ X ├┤ RZ(f((tau_0,))_24) ├┤ X ├┤ H ├──────────────────\n",
      "«      └───┘└────────────────────┘└───┘└───┘                  \n",
      "« c_0: ═══════════════════════════════════════════════════════\n",
      "«                                                             \n",
      "« c_1: ═══════════════════════════════════════════════════════\n",
      "«                                                             \n",
      "« c_2: ═══════════════════════════════════════════════════════\n",
      "«                                                             \n",
      "« c_3: ═══════════════════════════════════════════════════════\n",
      "«                                                             \n",
      "« c_4: ═══════════════════════════════════════════════════════\n",
      "«                                                             \n",
      "« c_5: ═══════════════════════════════════════════════════════\n",
      "«                                                             \n",
      "« c_6: ═══════════════════════════════════════════════════════\n",
      "«                                                             \n",
      "« c_7: ═══════════════════════════════════════════════════════\n",
      "«                                                             \n",
      "« c_8: ═══════════════════════════════════════════════════════\n",
      "«                                                             \n",
      "« c_9: ═══════════════════════════════════════════════════════\n",
      "«                                                             \n",
      "«c_10: ═══════════════════════════════════════════════════════\n",
      "«                                                             \n",
      "«c_11: ═══════════════════════════════════════════════════════\n",
      "«                                                             \n"
     ]
    }
   ],
   "source": [
    "circ = tq.circuit.compiler.compile_exponential_pauli_gate(U)\n",
    "tq.draw(circ, backend=\"qiskit\")"
   ]
  }
 ],
 "metadata": {
  "kernelspec": {
   "display_name": "quantumhack",
   "language": "python",
   "name": "quantumhack"
  },
  "language_info": {
   "codemirror_mode": {
    "name": "ipython",
    "version": 3
   },
   "file_extension": ".py",
   "mimetype": "text/x-python",
   "name": "python",
   "nbconvert_exporter": "python",
   "pygments_lexer": "ipython3",
   "version": "3.7.1"
  }
 },
 "nbformat": 4,
 "nbformat_minor": 2
}
