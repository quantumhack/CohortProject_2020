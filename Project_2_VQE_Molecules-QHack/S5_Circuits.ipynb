{
 "cells": [
  {
   "cell_type": "markdown",
   "metadata": {},
   "source": [
    "# Quantum Circuits\n",
    "Quantum computers can only use a specific set of gates (universal gate set). Given the entanglers and their amplitudes found in Step 3, one can find corresponding representation of these operators in terms of elementary gates using the following procedure."
   ]
  },
  {
   "cell_type": "code",
   "execution_count": 8,
   "metadata": {},
   "outputs": [],
   "source": [
    "import tequila as tq\n",
    "from utility import *"
   ]
  },
  {
   "cell_type": "markdown",
   "metadata": {},
   "source": [
    "First, we set up the Hamiltonian in Tequila's format and the unitary gates obtained in Step 3. "
   ]
  },
  {
   "cell_type": "code",
   "execution_count": 2,
   "metadata": {
    "tags": []
   },
   "outputs": [
    {
     "name": "stdout",
     "output_type": "stream",
     "text": [
      "circuit: \n",
      "Rx(target=(0,), parameter=beta_0)\n",
      "Rz(target=(0,), parameter=gamma_0)\n",
      "Rx(target=(1,), parameter=beta_1)\n",
      "Rz(target=(1,), parameter=gamma_1)\n",
      "Rx(target=(2,), parameter=beta_2)\n",
      "Rz(target=(2,), parameter=gamma_2)\n",
      "Rx(target=(3,), parameter=beta_3)\n",
      "Rz(target=(3,), parameter=gamma_3)\n",
      "Exp-Pauli(target=(0, 1, 2, 3), control=(), parameter=tau_0, paulistring=X(0)Y(1)X(2)X(3))\n",
      "\n"
     ]
    }
   ],
   "source": [
    "H = tq.QubitHamiltonian.from_openfermion(get_qubit_hamiltonian('h2', 2, 'sto-3g', qubit_transf='jw'))\n",
    "\n",
    "a = tq.Variable(\"tau_0\")\n",
    "U = construct_QMF_ansatz(4)\n",
    "U += tq.gates.ExpPauli(paulistring=tq.PauliString.from_string(\"X(0)Y(1)X(2)X(3)\"), angle=a)\n",
    "print(U)"
   ]
  },
  {
   "cell_type": "markdown",
   "metadata": {},
   "source": [
    "One can check the expectation value to see it is near the ground state energy."
   ]
  },
  {
   "cell_type": "code",
   "execution_count": 3,
   "metadata": {
    "tags": []
   },
   "outputs": [
    {
     "name": "stdout",
     "output_type": "stream",
     "text": [
      "-0.9486411121761621\n"
     ]
    }
   ],
   "source": [
    "E = tq.ExpectationValue(H=H, U=U)\n",
    "vars = {'beta_1': 3.141592624143881, 'beta_0': 3.141592624143881, 'tau_0': 1.1331410014096885, 'gamma_1': 0.0, 'beta_3': 0.0, 'gamma_3': 0.0, 'gamma_2': 0.0, 'gamma_0': 0.0, 'beta_2': 0.0} # values obtained from step 3\n",
    "print(tq.simulate(E, variables=vars))"
   ]
  },
  {
   "cell_type": "markdown",
   "metadata": {},
   "source": [
    "One can run the same experiment on a real quantum computer through IBM Quantum Experience (ibmq). After activating your account here (https://quantum-computing.ibm.com/login), copy the API token and execute the commented block below. "
   ]
  },
  {
   "cell_type": "code",
   "execution_count": 4,
   "metadata": {},
   "outputs": [
    {
     "name": "stderr",
     "output_type": "stream",
     "text": [
      "configrc.store_credentials:WARNING:2020-07-15 20:26:51,443: Credentials already present. Set overwrite=True to overwrite.\n"
     ]
    }
   ],
   "source": [
    "from qiskit import IBMQ\n",
    "IBMQ.save_account('14e33fcce21224d1806b322dbb5256e665b417ae386c619f457aac832df3ec92aea03dfaf044d432e9a38a8494d1547f62d7ee55c37dc08f254c4e2872939079')"
   ]
  },
  {
   "cell_type": "code",
   "execution_count": 7,
   "metadata": {
    "tags": []
   },
   "outputs": [
    {
     "data": {
      "text/plain": [
       "-0.7270544646628918"
      ]
     },
     "execution_count": 7,
     "metadata": {},
     "output_type": "execute_result"
    }
   ],
   "source": [
    "# list of devices available can be found in ibmq account page\n",
    "tq.simulate(E, variables=vars, samples=100, backend=\"qiskit\", device='ibmq_essex')"
   ]
  },
  {
   "cell_type": "markdown",
   "metadata": {},
   "source": [
    "The following code block prints the circuit."
   ]
  },
  {
   "cell_type": "code",
   "execution_count": 8,
   "metadata": {
    "tags": []
   },
   "outputs": [
    {
     "name": "stdout",
     "output_type": "stream",
     "text": [
      "     ┌────────────────────┐┌─────────────────────┐   ┌───┐                   »\n",
      "q_0: ┤ RX(f((beta_0,))_0) ├┤ RZ(f((gamma_0,))_1) ├───┤ H ├──────■────────────»\n",
      "     ├────────────────────┤├─────────────────────┤┌──┴───┴───┐┌─┴─┐          »\n",
      "q_1: ┤ RX(f((beta_1,))_2) ├┤ RZ(f((gamma_1,))_3) ├┤ RX(pi/2) ├┤ X ├──■───────»\n",
      "     ├────────────────────┤├─────────────────────┤└──┬───┬───┘└───┘┌─┴─┐     »\n",
      "q_2: ┤ RX(f((beta_2,))_4) ├┤ RZ(f((gamma_2,))_5) ├───┤ H ├─────────┤ X ├──■──»\n",
      "     ├────────────────────┤├─────────────────────┤   ├───┤         └───┘┌─┴─┐»\n",
      "q_3: ┤ RX(f((beta_3,))_6) ├┤ RZ(f((gamma_3,))_7) ├───┤ H ├──────────────┤ X ├»\n",
      "     └────────────────────┘└─────────────────────┘   └───┘              └───┘»\n",
      "c_0: ════════════════════════════════════════════════════════════════════════»\n",
      "                                                                             »\n",
      "c_1: ════════════════════════════════════════════════════════════════════════»\n",
      "                                                                             »\n",
      "c_2: ════════════════════════════════════════════════════════════════════════»\n",
      "                                                                             »\n",
      "c_3: ════════════════════════════════════════════════════════════════════════»\n",
      "                                                                             »\n",
      "«                                             ┌───┐    \n",
      "«q_0: ─────────────────────────────────■──────┤ H ├────\n",
      "«                                    ┌─┴─┐┌───┴───┴───┐\n",
      "«q_1: ────────────────────────────■──┤ X ├┤ RX(-pi/2) ├\n",
      "«                               ┌─┴─┐├───┤└───────────┘\n",
      "«q_2: ───────────────────────■──┤ X ├┤ H ├─────────────\n",
      "«     ┌───────────────────┐┌─┴─┐├───┤└───┘             \n",
      "«q_3: ┤ RZ(f((tau_0,))_8) ├┤ X ├┤ H ├──────────────────\n",
      "«     └───────────────────┘└───┘└───┘                  \n",
      "«c_0: ═════════════════════════════════════════════════\n",
      "«                                                      \n",
      "«c_1: ═════════════════════════════════════════════════\n",
      "«                                                      \n",
      "«c_2: ═════════════════════════════════════════════════\n",
      "«                                                      \n",
      "«c_3: ═════════════════════════════════════════════════\n",
      "«                                                      \n"
     ]
    }
   ],
   "source": [
    "circ = tq.circuit.compiler.compile_exponential_pauli_gate(U)\n",
    "tq.draw(circ, backend=\"qiskit\")"
   ]
  },
  {
   "cell_type": "markdown",
   "metadata": {},
   "source": [
    "## Elementary Gates and Circuit for the $H_4$ molecule"
   ]
  },
  {
   "cell_type": "code",
   "execution_count": 11,
   "metadata": {},
   "outputs": [
    {
     "name": "stdout",
     "output_type": "stream",
     "text": [
      "circuit: \n",
      "Rx(target=(0,), parameter=beta_0)\n",
      "Rz(target=(0,), parameter=gamma_0)\n",
      "Rx(target=(1,), parameter=beta_1)\n",
      "Rz(target=(1,), parameter=gamma_1)\n",
      "Rx(target=(2,), parameter=beta_2)\n",
      "Rz(target=(2,), parameter=gamma_2)\n",
      "Rx(target=(3,), parameter=beta_3)\n",
      "Rz(target=(3,), parameter=gamma_3)\n",
      "Rx(target=(4,), parameter=beta_4)\n",
      "Rz(target=(4,), parameter=gamma_4)\n",
      "Rx(target=(5,), parameter=beta_5)\n",
      "Rz(target=(5,), parameter=gamma_5)\n",
      "Rx(target=(6,), parameter=beta_6)\n",
      "Rz(target=(6,), parameter=gamma_6)\n",
      "Rx(target=(7,), parameter=beta_7)\n",
      "Rz(target=(7,), parameter=gamma_7)\n",
      "Exp-Pauli(target=(0, 1, 2, 3), control=(), parameter=tau_0, paulistring=X(0)Y(1)X(2)X(3))\n",
      "\n"
     ]
    }
   ],
   "source": [
    "H = tq.QubitHamiltonian.from_openfermion(get_qubit_hamiltonian('h4', 85, 'sto-3g', qubit_transf='jw'))\n",
    "\n",
    "a = tq.Variable(\"tau_0\")\n",
    "U = construct_QMF_ansatz(8)\n",
    "U += tq.gates.ExpPauli(paulistring=tq.PauliString.from_string(\"X(0)Y(1)X(2)X(3)\"), angle=a)\n",
    "print(U)"
   ]
  },
  {
   "cell_type": "code",
   "execution_count": 12,
   "metadata": {},
   "outputs": [
    {
     "name": "stdout",
     "output_type": "stream",
     "text": [
      "-1.7606029387527729\n"
     ]
    }
   ],
   "source": [
    "E = tq.ExpectationValue(H=H, U=U)\n",
    "vars = {'beta_0': 3.1415925941873906, 'gamma_0': 0.0, 'beta_1': 3.1415925941873906, 'gamma_1': 0.0, 'beta_2': 3.141592653589793, 'gamma_2': 0.0, 'beta_3': 3.141592653589793, 'gamma_3': 0.0, 'beta_4': 0.0, 'gamma_4': 0.0, 'beta_5': 0.0, 'gamma_5': 0.0, 'beta_6': 0.0, 'gamma_6': 0.0, 'beta_7': 0.0, 'gamma_7': 0.0, 'tau_0': 0.28895953246562434} # values obtained from step 3\n",
    "print(tq.simulate(E, variables=vars))"
   ]
  },
  {
   "cell_type": "code",
   "execution_count": 13,
   "metadata": {},
   "outputs": [
    {
     "data": {
      "text/plain": [
       "-1.7632778792720725"
      ]
     },
     "execution_count": 13,
     "metadata": {},
     "output_type": "execute_result"
    }
   ],
   "source": [
    "# list of devices available can be found in ibmq account page\n",
    "tq.simulate(E, variables=vars, samples=100, backend=\"qiskit\")"
   ]
  },
  {
   "cell_type": "code",
   "execution_count": 14,
   "metadata": {},
   "outputs": [
    {
     "name": "stdout",
     "output_type": "stream",
     "text": [
      "      ┌────────────────────┐┌─────────────────────┐    ┌───┐                   »\n",
      "q_0: ─┤ RX(f((beta_0,))_0) ├┤ RZ(f((gamma_0,))_1) ├────┤ H ├──────■────────────»\n",
      "      ├────────────────────┤├─────────────────────┤ ┌──┴───┴───┐┌─┴─┐          »\n",
      "q_1: ─┤ RX(f((beta_1,))_2) ├┤ RZ(f((gamma_1,))_3) ├─┤ RX(pi/2) ├┤ X ├──■───────»\n",
      "      ├────────────────────┤├─────────────────────┤ └──┬───┬───┘└───┘┌─┴─┐     »\n",
      "q_2: ─┤ RX(f((beta_2,))_4) ├┤ RZ(f((gamma_2,))_5) ├────┤ H ├─────────┤ X ├──■──»\n",
      "      ├────────────────────┤├─────────────────────┤    ├───┤         └───┘┌─┴─┐»\n",
      "q_3: ─┤ RX(f((beta_3,))_6) ├┤ RZ(f((gamma_3,))_7) ├────┤ H ├──────────────┤ X ├»\n",
      "      ├────────────────────┤├─────────────────────┤    └───┘              └───┘»\n",
      "q_4: ─┤ RX(f((beta_4,))_8) ├┤ RZ(f((gamma_4,))_9) ├────────────────────────────»\n",
      "     ┌┴────────────────────┤├─────────────────────┴┐                           »\n",
      "q_5: ┤ RX(f((beta_5,))_10) ├┤ RZ(f((gamma_5,))_11) ├───────────────────────────»\n",
      "     ├─────────────────────┤├──────────────────────┤                           »\n",
      "q_6: ┤ RX(f((beta_6,))_12) ├┤ RZ(f((gamma_6,))_13) ├───────────────────────────»\n",
      "     ├─────────────────────┤├──────────────────────┤                           »\n",
      "q_7: ┤ RX(f((beta_7,))_14) ├┤ RZ(f((gamma_7,))_15) ├───────────────────────────»\n",
      "     └─────────────────────┘└──────────────────────┘                           »\n",
      "c_0: ══════════════════════════════════════════════════════════════════════════»\n",
      "                                                                               »\n",
      "c_1: ══════════════════════════════════════════════════════════════════════════»\n",
      "                                                                               »\n",
      "c_2: ══════════════════════════════════════════════════════════════════════════»\n",
      "                                                                               »\n",
      "c_3: ══════════════════════════════════════════════════════════════════════════»\n",
      "                                                                               »\n",
      "c_4: ══════════════════════════════════════════════════════════════════════════»\n",
      "                                                                               »\n",
      "c_5: ══════════════════════════════════════════════════════════════════════════»\n",
      "                                                                               »\n",
      "c_6: ══════════════════════════════════════════════════════════════════════════»\n",
      "                                                                               »\n",
      "c_7: ══════════════════════════════════════════════════════════════════════════»\n",
      "                                                                               »\n",
      "«                                              ┌───┐    \n",
      "«q_0: ──────────────────────────────────■──────┤ H ├────\n",
      "«                                     ┌─┴─┐┌───┴───┴───┐\n",
      "«q_1: ─────────────────────────────■──┤ X ├┤ RX(-pi/2) ├\n",
      "«                                ┌─┴─┐├───┤└───────────┘\n",
      "«q_2: ────────────────────────■──┤ X ├┤ H ├─────────────\n",
      "«     ┌────────────────────┐┌─┴─┐├───┤└───┘             \n",
      "«q_3: ┤ RZ(f((tau_0,))_16) ├┤ X ├┤ H ├──────────────────\n",
      "«     └────────────────────┘└───┘└───┘                  \n",
      "«q_4: ──────────────────────────────────────────────────\n",
      "«                                                       \n",
      "«q_5: ──────────────────────────────────────────────────\n",
      "«                                                       \n",
      "«q_6: ──────────────────────────────────────────────────\n",
      "«                                                       \n",
      "«q_7: ──────────────────────────────────────────────────\n",
      "«                                                       \n",
      "«c_0: ══════════════════════════════════════════════════\n",
      "«                                                       \n",
      "«c_1: ══════════════════════════════════════════════════\n",
      "«                                                       \n",
      "«c_2: ══════════════════════════════════════════════════\n",
      "«                                                       \n",
      "«c_3: ══════════════════════════════════════════════════\n",
      "«                                                       \n",
      "«c_4: ══════════════════════════════════════════════════\n",
      "«                                                       \n",
      "«c_5: ══════════════════════════════════════════════════\n",
      "«                                                       \n",
      "«c_6: ══════════════════════════════════════════════════\n",
      "«                                                       \n",
      "«c_7: ══════════════════════════════════════════════════\n",
      "«                                                       \n"
     ]
    }
   ],
   "source": [
    "circ = tq.circuit.compiler.compile_exponential_pauli_gate(U)\n",
    "tq.draw(circ, backend=\"qiskit\")"
   ]
  },
  {
   "cell_type": "code",
   "execution_count": null,
   "metadata": {},
   "outputs": [],
   "source": [
    "# list of devices available can be found in ibmq account page\n",
    "tq.simulate(E, variables=vars, samples=100, backend=\"qiskit\", device='ibmq_16_melbourne')"
   ]
  },
  {
   "cell_type": "code",
   "execution_count": null,
   "metadata": {},
   "outputs": [],
   "source": []
  }
 ],
 "metadata": {
  "kernelspec": {
   "display_name": "quantumhack",
   "language": "python",
   "name": "quantumhack"
  }
 },
 "nbformat": 4,
 "nbformat_minor": 2
}
