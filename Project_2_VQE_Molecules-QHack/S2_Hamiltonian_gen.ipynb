{
 "cells": [
  {
   "cell_type": "markdown",
   "metadata": {},
   "source": [
    "# Generating Qubit Hamiltonians\n"
   ]
  },
  {
   "cell_type": "code",
   "execution_count": 1,
   "metadata": {},
   "outputs": [],
   "source": [
    "from utility import *"
   ]
  },
  {
   "cell_type": "markdown",
   "metadata": {},
   "source": [
    "# H$_2$"
   ]
  },
  {
   "cell_type": "markdown",
   "metadata": {},
   "source": [
    "Specify the Qubit Hamiltonian of a molecule by its name, internuclear distances, basis set, and fermion-to-qubit transformation. Here, we show the resulting Hamiltonian for $H_2$ in STO-3G with $1\\overset{\\circ}{A}$ between the $H$ atoms."
   ]
  },
  {
   "cell_type": "code",
   "execution_count": 2,
   "metadata": {},
   "outputs": [
    {
     "name": "stdout",
     "output_type": "stream",
     "text": [
      "-0.3276081896748089 [] +\n",
      "-0.04919764587136759 [X0 X1 Y2 Y3] +\n",
      "0.04919764587136759 [X0 Y1 Y2 X3] +\n",
      "0.04919764587136759 [Y0 X1 X2 Y3] +\n",
      "-0.04919764587136759 [Y0 Y1 X2 X3] +\n",
      "0.13716572937099494 [Z0] +\n",
      "0.15660062488237958 [Z0 Z1] +\n",
      "0.10622904490856085 [Z0 Z2] +\n",
      "0.15542669077992843 [Z0 Z3] +\n",
      "0.13716572937099494 [Z1] +\n",
      "0.15542669077992843 [Z1 Z2] +\n",
      "0.10622904490856085 [Z1 Z3] +\n",
      "-0.1303629205710914 [Z2] +\n",
      "0.1632676867356435 [Z2 Z3] +\n",
      "-0.13036292057109133 [Z3]\n"
     ]
    }
   ],
   "source": [
    "qubit_transf = 'jw' # Jordan-Wigner transformations\n",
    "h2 = get_qubit_hamiltonian(mol='h2', geometry=1, basis='sto3g', qubit_transf=qubit_transf)\n",
    "print(h2)"
   ]
  },
  {
   "cell_type": "markdown",
   "metadata": {},
   "source": [
    "\n",
    "\n",
    "Alternatively, the qubit-tapering technique can find a smaller effective Hamitlonian by subsitituting operators with $\\pm 1$. This technique is detailed in Bravyi's work ([Bravyi et al., \"Tapering off qubits to simulate fermionic Hamiltonians\", arXiv:1701.08213](https://arxiv.org/abs/1701.08213)).\n"
   ]
  },
  {
   "cell_type": "code",
   "execution_count": 3,
   "metadata": {},
   "outputs": [
    {
     "name": "stdout",
     "output_type": "stream",
     "text": [
      "The effective Hamiltonian:\n",
      " -0.5310513494337643 [] +\n",
      "0.19679058348547035 [X0] +\n",
      "-0.5350572998841726 [Z0]\n"
     ]
    }
   ],
   "source": [
    "print(\"The effective Hamiltonian:\\n {}\".format(taper_hamiltonian(h2, n_spin_orbitals=4, n_electrons=2, qubit_transf=qubit_transf)))"
   ]
  },
  {
   "cell_type": "markdown",
   "metadata": {},
   "source": [
    "\n",
    "\n",
    "We can verify that this new Hamiltonian indeed includes the ground state.\n"
   ]
  },
  {
   "cell_type": "code",
   "execution_count": 4,
   "metadata": {},
   "outputs": [
    {
     "name": "stdout",
     "output_type": "stream",
     "text": [
      "The ground state energy:\n",
      "E = -1.1011503301329566 Eh\n",
      "\n",
      "The eigenvalues in the effective Hamiltonian: \n",
      " [-1.10115031  0.03904763]\n"
     ]
    }
   ],
   "source": [
    "print(\"The ground state energy:\")\n",
    "obtain_PES('h2', [1], 'sto-3g', 'fci')\n",
    "\n",
    "# Building the matrix representation of the effective Hamiltonian\n",
    "I, X, Z = np.identity(2), np.array([[0, 1], [1, 0]]), np.array([[1, 0], [0, -1]])\n",
    "h2_matrix = -0.53105134 * I + 0.19679058 * X - 0.53505729 * Z\n",
    "\n",
    "# Obtain the eigenvalues\n",
    "eigvals, _ = np.linalg.eigh(h2_matrix)\n",
    "print(\"\\nThe eigenvalues in the effective Hamiltonian: \\n {}\".format(eigvals))"
   ]
  },
  {
   "cell_type": "code",
   "execution_count": 7,
   "metadata": {
    "scrolled": true
   },
   "outputs": [
    {
     "name": "stdout",
     "output_type": "stream",
     "text": [
      "E = -1.0551597946880178 Eh\n",
      "E = -1.1284622392521424 Eh\n",
      "E = -1.135324717942807 Eh\n",
      "E = -1.1154333215192842 Eh\n",
      "E = -1.085591462636164 Eh\n",
      "E = -1.0535802485981933 Eh\n",
      "E = -1.023649897162354 Eh\n",
      "E = -0.9981492860961144 Eh\n",
      "E = -0.9779958944742693 Eh\n",
      "E = -0.963051385110496 Eh\n",
      "E = -0.9525449013982779 Eh\n",
      "E = -0.9454668455477824 Eh\n",
      "E = -0.9408488128854151 Eh\n",
      "E = -0.9379036275943807 Eh\n",
      "E = -0.9360549199436612 Eh\n"
     ]
    },
    {
     "data": {
      "image/png": "[encoded data removed]",
      "text/plain": [
       "<Figure size 432x288 with 1 Axes>"
      ]
     },
     "metadata": {},
     "output_type": "display_data"
    }
   ],
   "source": [
    "from openfermion.utils import eigenspectrum\n",
    "\n",
    "prec = 15\n",
    "qubit_transf = 'jw' # Jordan-Wigner transformations\n",
    "angles = np.linspace(0.5, 2.5, prec)\n",
    "energy_fci = obtain_PES('h2', angles, 'sto-3g', 'fci')\n",
    "\n",
    "energy_tap = np.zeros(prec)\n",
    "for i in range(prec):\n",
    "    h2 = get_qubit_hamiltonian(mol='h2', geometry=angles[i], basis='sto3g', qubit_transf=qubit_transf)\n",
    "    h = taper_hamiltonian(h2, n_spin_orbitals=4, n_electrons=2, qubit_transf=qubit_transf)\n",
    "    energy_tap[i] = eigenspectrum(h)[0]\n",
    "    \n",
    "  \n",
    "from matplotlib import pyplot as plt\n",
    "\n",
    "plt.style.use('fivethirtyeight')\n",
    "\n",
    "\n",
    "plt.plot(angles, energy_tap, color='#5a7d9a', linestyle='--', marker='o', label='Tapering')\n",
    "plt.plot(angles, energy_fci, color='#444444', linestyle='-', marker='.', label='FCI')\n",
    "\n",
    "\n",
    "plt.xlabel('angle')\n",
    "plt.ylabel('Energy')\n",
    "plt.title('H2')\n",
    "\n",
    "plt.legend()\n",
    "plt.grid(True)"
   ]
  },
  {
   "cell_type": "markdown",
   "metadata": {},
   "source": [
    "We can see this approximation gives good results for the H$_2$ molecule."
   ]
  }
 ],
 "metadata": {
  "kernelspec": {
   "display_name": "tequila",
   "language": "python",
   "name": "tequila"
  },
  "language_info": {
   "codemirror_mode": {
    "name": "ipython",
    "version": 3
   },
   "file_extension": ".py",
   "mimetype": "text/x-python",
   "name": "python",
   "nbconvert_exporter": "python",
   "pygments_lexer": "ipython3",
   "version": "3.7.1"
  }
 },
 "nbformat": 4,
 "nbformat_minor": 4
}
